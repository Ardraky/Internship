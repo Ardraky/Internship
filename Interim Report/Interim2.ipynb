# **Importing Libraries**


import numpy as np
import pandas as pd
import seaborn as sns
import matplotlib.pyplot as plt
import plotly.express as px
import warnings
warnings.filterwarnings('ignore')
import datetime
# **Accessing the data**
from google.colab import drive
drive.mount('/content/drive')
df1 = pd.read_csv('/content/drive/My Drive/TCS iON Internship/webmd.csv')
df1.shape
df1.head(1)
df1.columns
df1.info()
df1.describe()
df1.nunique()
df1.duplicated().sum()
df1.isna().sum()
df2 = pd.read_csv('/content/drive/My Drive/TCS iON Internship/data1.csv')
df2.shape
df2.columns
df2.head(1)
df2.info()
df2.describe()
df2.nunique()
df2.duplicated().sum()
df2.isna().sum()
df2['side_effects'].value_counts()
# **Data Preparation**
#### **Adding Name and Race columns**
columns_to_concat = ['name', 'race']
concatenated_columns = pd.concat([df2[columns_to_concat], df1], axis=1)

df = pd.DataFrame(concatenated_columns)
df.head(1)
df.to_csv('Data(name, race.csv)', index=False)
df.shape
df.columns
df.info()
df.describe()
df.nunique()
df.isna().sum()
## **Data Cleaning**
### **Missing value handling**
df.dropna(inplace=True)
df.isna().sum()
# Handling instances with whitespaces
for i in df:
    df[i]=np.where(df[i]==" ",np.NAN,df[i])

df.isna().sum()
df.dropna(inplace = True)
df.isna().sum()
# Handling instances with double whitespaces
for i in df:
    df[i]=np.where(df[i]=="  ",np.NAN,df[i])

df.isna().sum()
df.dropna(inplace = True)
df.isna().sum()
### **Duplicates handling**
df.duplicated().sum()
df.shape
df.nunique()
df['Drug'].value_counts()
# Count the occurrences of each drug
drug_counts = df['Drug'].value_counts()

# Count the number of unique identities with count 1
unique_count_1 = sum(drug_counts == 1)

# Print the result
print("Number of unique identities with count 1:", unique_count_1)
## **Feature Extraction**
**Date**
df['Date'] = pd.to_datetime(df['Date'])
df['Year'] = df['Date'].dt.year
df['Month'] = df['Date'].dt.month
df.columns
**Side Effects**
# Split the 'Sides' column into multiple columns
split_sides = df['Sides'].str.split(', ', expand=True)

# Rename the split columns
split_sides.columns = [f'Side {i+1}' for i in range(split_sides.shape[1])]

# Concatenate the split columns to the original DataFrame
df = pd.concat([df, split_sides], axis=1)

df.head(1)
# Count the number of comma-separated strings in the 'Sides' column and create a new column 'Count'
df['No.of Side effects'] = df['Sides'].str.count(',') + 1
df.info()
df.nunique()
df['Severity of Side effects'] = 'No symptoms'

# Assign severity levels based on the 'No.of Side effects' values
df.loc[df['No.of Side effects'].isin([0]), 'Severity of Side effects'] = 'No Side Effect'
df.loc[df['No.of Side effects'].isin([1, 2, 3, 4]), 'Severity of Side effects'] = 'Mild'
df.loc[df['No.of Side effects'].isin([5, 6, 7, 8]), 'Severity of Side effects'] = 'Moderate'
df.loc[df['No.of Side effects'].isin([9, 10, 11, 12]), 'Severity of Side effects'] = 'Severe'
df.loc[df['No.of Side effects'].isin([13, 14, 15, 16, 17]), 'Severity of Side effects'] = 'Extreme'
df.to_csv('Data Split', index = False)
# **Plots**
#### **Univariate Plots**
#Top 25 Drugs

# Sort the data frame by the "Drug" column
sorted_df = df['Drug'].value_counts().reset_index().rename(columns={'index': 'Drug', 'Drug': 'Count'})
sorted_df = sorted_df.sort_values('Count', ascending=False)

# Get the top 25 drugs
top_25_drugs = sorted_df.head(25)

colors = sns.color_palette('pastel')

# Create a bar plot
plt.figure(figsize=(12, 6))
plt.bar(top_25_drugs['Drug'], top_25_drugs['Count'], color = colors)
plt.xlabel('Drug')
plt.ylabel('Count')
plt.title('Top 25 Drugs')
plt.xticks(rotation=90)
plt.tight_layout()

# Display the plot
plt.show()
# Count the occurrences of each drug
drug_counts = df['Drug'].value_counts()

# Get the top 25 drugs
top_20_drugs = drug_counts.head(20)

colors = sns.color_palette('pastel')

# Create a bar plot
plt.figure(figsize=(15, 12))
bars = plt.bar(top_20_drugs.index, top_20_drugs.values, color = colors)
plt.xlabel('Drug')
plt.ylabel('Count')
plt.title('Top 20 Drugs by Count')
plt.xticks(rotation=90)
plt.tight_layout()

# Add count values above each bar
for bar in bars:
    yval = bar.get_height()
    plt.text(bar.get_x() + bar.get_width() / 2, yval, yval, ha='center', va='bottom')

# Display the plot
plt.show()
#Sex

# Get the value counts of the 'Sex' column
sex_counts = df['Sex'].value_counts()

colors = sns.color_palette('pastel')

# Create a bar plot
plt.figure(figsize=(8, 5))
bars = plt.bar(sex_counts.index, sex_counts.values, color = colors)
plt.xlabel('Sex')
plt.ylabel('Count')
plt.title('Distribution of Sex')
plt.tight_layout()

# Add count values above each bar
for bar in bars:
    yval = bar.get_height()
    plt.text(bar.get_x() + bar.get_width() / 2, yval, yval, ha='center', va='bottom')

# Display the plot
plt.show()
#Race

# Get the value counts of the 'Sex' column
race_counts = df['race'].value_counts()

colors = sns.color_palette('pastel')

# Create a bar plot
plt.figure(figsize=(8, 5))
bars = plt.bar(race_counts.index, race_counts.values, color = colors)
plt.xlabel('Race')
plt.ylabel('Count')
plt.title('Distribution of race')
plt.tight_layout()

# Add count values above each bar
for bar in bars:
    yval = bar.get_height()
    plt.text(bar.get_x() + bar.get_width() / 2, yval, yval, ha='center', va='bottom')

# Display the plot
plt.show()
#Age

# Get the value counts of the 'Sex' column
age_counts = df['Age'].value_counts()

colors = sns.color_palette('pastel')

# Create a bar plot
plt.figure(figsize=(8, 5))
bars = plt.bar(age_counts.index, age_counts.values, color = colors)
plt.xlabel('Age')
plt.ylabel('Count')
plt.title('Distribution of Age')
plt.tight_layout()

# Add count values above each bar
for bar in bars:
    yval = bar.get_height()
    plt.text(bar.get_x() + bar.get_width() / 2, yval, yval, ha='center', va='bottom')

# Display the plot
plt.show()
#EaseofUse

eou = df['EaseofUse'].value_counts()

colors = sns.color_palette('pastel')

plt.figure(figsize=(8, 5))
bars = plt.bar(eou.index, eou.values, color = colors)
plt.xlabel('Ease of Use')
plt.ylabel('Count')
plt.title('Distribution of Ease of use of Drugs')
plt.tight_layout()

# Add count values above each bar
for bar in bars:
    yval = bar.get_height()
    plt.text(bar.get_x() + bar.get_width() / 2, yval, yval, ha='center', va='bottom')

# Display the plot
plt.show()
#Effectiveness

eff = df['Effectiveness'].value_counts()

colors = sns.color_palette('pastel')

plt.figure(figsize=(8, 5))
bars = plt.bar(eff.index, eff.values, color = colors)
plt.xlabel('Effectiveness')
plt.ylabel('Count')
plt.title('Distribution of Effectiveness of Drugs')
plt.tight_layout()

# Add count values above each bar
for bar in bars:
    yval = bar.get_height()
    plt.text(bar.get_x() + bar.get_width() / 2, yval, yval, ha='center', va='bottom')

# Display the plot
plt.show()
#Satisfaction

sat = df['Satisfaction'].value_counts()

colors = sns.color_palette('pastel')

plt.figure(figsize=(8, 5))
bars = plt.bar(sat.index, sat.values, color = colors)
plt.xlabel('Satisfaction')
plt.ylabel('Count')
plt.title('Distribution of Satisfaction of Drugs')
plt.tight_layout()

# Add count values above each bar
for bar in bars:
    yval = bar.get_height()
    plt.text(bar.get_x() + bar.get_width() / 2, yval, yval, ha='center', va='bottom')

# Display the plot
plt.show()
#Condition


# Get the value counts of conditions
condition_counts = df['Condition'].value_counts()

# Select the top N conditions to plot
N = 10  # Number of top conditions to display
top_conditions = condition_counts.head(N)

colors = sns.color_palette('pastel')

# Plot the top conditions
plt.figure(figsize=(10, 6))
bars = plt.bar(top_conditions.index, top_conditions.values, color = colors)
plt.xlabel('Condition')
plt.ylabel('Count')
plt.title('Top Conditions')
plt.xticks(rotation=45, ha='right')

# Add count values above each bar
for bar in bars:
    yval = bar.get_height()
    plt.text(bar.get_x() + bar.get_width() / 2, yval, yval, ha='center', va='bottom')

plt.tight_layout()
plt.show()
#Side 1


side1_count = df['Side 1'].value_counts()

# Get the top 25 drugs
top_10_side1 = side1_count.head(10)

colors = sns.color_palette('pastel')

# Create a bar plot
plt.figure(figsize=(12,8))
bars = plt.bar(top_10_side1.index, top_10_side1.values, color = colors)
plt.xlabel('Primary Side effect')
plt.ylabel('Count')
plt.title('Distribution of Primary Side effect')
plt.xticks(rotation=45)
plt.tight_layout()

# Add count values above each bar
for bar in bars:
    yval = bar.get_height()
    plt.text(bar.get_x() + bar.get_width() / 2, yval, yval, ha='center', va='bottom')

# Display the plot
plt.show()
#Side 2


side2_count = df['Side 2'].value_counts()

# Get the top 25 drugs
top_10_side2 = side2_count.head(10)

colors = sns.color_palette('pastel')

# Create a bar plot
plt.figure(figsize=(12,8))
bars = plt.bar(top_10_side2.index, top_10_side2.values, color = colors)
plt.xlabel('Secondary Side effect')
plt.ylabel('Count')
plt.title('Distribution of Secondary Side effect')
plt.xticks(rotation=90)
plt.tight_layout()

# Add count values above each bar
for bar in bars:
    yval = bar.get_height()
    plt.text(bar.get_x() + bar.get_width() / 2, yval, yval, ha='center', va='bottom')

# Display the plot
plt.show()
#Side 3


side3_count = df['Side 3'].value_counts()

# Get the top 25 drugs
top_10_side3 = side3_count.head(10)

colors = sns.color_palette('pastel')

# Create a bar plot
plt.figure(figsize=(12,8))
bars = plt.bar(top_10_side3.index, top_10_side3.values, color = colors)
plt.xlabel('Tertiary Side effect')
plt.ylabel('Count')
plt.title('Distribution of Tertiary Side effect')
plt.xticks(rotation=90)
plt.tight_layout()

# Add count values above each bar
for bar in bars:
    yval = bar.get_height()
    plt.text(bar.get_x() + bar.get_width() / 2, yval, yval, ha='center', va='bottom')

# Display the plot
plt.show()
df.columns
#Severity of Side effects

# Calculate the frequency of each severity level
severity_counts = df['Severity of Side effects'].value_counts()

# Define the colors for the bars
colors = sns.color_palette('pastel')

# Plot the frequency of severity levels with different colors
plt.figure(figsize=(8, 5))
ax = severity_counts.plot(kind='bar', color=colors)
plt.xlabel('Severity of Side effects')
plt.ylabel('Frequency')
plt.title('Frequency Plot of Severity of Side effects')
plt.xticks(rotation=45)
plt.tight_layout()


# Add count values above each bar
for p in ax.patches:
    height = p.get_height()
    ax.annotate(height, (p.get_x() + p.get_width() / 2, height), ha='center', va='bottom')

plt.show()
#### **Bivariate Plots**

# Create the countplot
sns.countplot(x='race', hue='Sex', data=df)

# Set the plot title
plt.title("Users by Race and Gender", fontsize=10)

# Adjust the position and rotation of x-axis labels
plt.xticks(rotation=45, ha='right')

ax = plt.gca()
for p in ax.patches:
    height = p.get_height()
    ax.annotate(height, (p.get_x() + p.get_width() / 2, height), ha='center', va='bottom')

# Display the plot
plt.show()

# Group the data by drug and calculate the sum of side effects
side_effects_per_drug = df.groupby('Drug')['No.of Side effects'].sum().sort_values(ascending=False)

# Select the top 20 drugs
top_20_drugs = side_effects_per_drug.head(20)

# Plot the number of side effects per drug (top 20)
plt.figure(figsize=(12, 6))
ax = top_20_drugs.plot(kind='bar')
plt.xlabel('Drug')
plt.ylabel('Number of Side Effects')
plt.title('Number of Side Effects per Drug (Top 20)')
plt.xticks(rotation=90)
plt.tight_layout()

# Add value counts above each bar
for p in ax.patches:
    height = p.get_height()
    plt.text(p.get_x() + p.get_width() / 2, height, height, ha='center', va='bottom')

plt.show()
# Group the data by year and calculate the count of drugs
drugs_per_year = df.groupby('Year')['Drug'].count()

colors = sns.color_palette('pastel')

# Plot the number of drugs produced each year
plt.figure(figsize=(10, 6))
drugs_per_year.plot(kind='bar', color = colors)
plt.xlabel('Year')
plt.ylabel('Number of Drugs')
plt.title('Number of Drugs Produced Each Year')
plt.xticks(rotation=45)
plt.tight_layout()
plt.show()
# Calculate the count of drugs for each number of side effects
count_per_side_effects = df['No.of Side effects'].value_counts().sort_index()

colors = sns.color_palette('pastel')

# Plot the count of drugs for each number of side effects
plt.figure(figsize=(10, 6))
bars = plt.bar(count_per_side_effects.index, count_per_side_effects.values, color = colors)
plt.xlabel('Number of Side Effects')
plt.ylabel('Count of Drugs')
plt.title('Count of Drugs for Each Number of Side Effects')

# Set the x-axis tick interval
x_ticks = range(min(count_per_side_effects.index), max(count_per_side_effects.index) + 1, 1)
plt.xticks(x_ticks)

# Add count values above each bar
for bar in bars:
    yval = bar.get_height()
    plt.text(bar.get_x() + bar.get_width() / 2, yval, yval, ha='center', va='bottom')

plt.tight_layout()
plt.show()
#### **Multivariate plots**
columns = ['Age', 'EaseofUse', 'Effectiveness', 'Satisfaction', 'UsefulCount', 'Year', 'No.of Side effects']
num_cols = df[columns]
correlation_matrix = num_cols.corr()

plt.figure(figsize=(10, 8))
sns.heatmap(correlation_matrix, annot=True, cmap='coolwarm')
plt.title('Correlation Heatmap')
plt.show()
